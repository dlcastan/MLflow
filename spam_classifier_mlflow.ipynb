{
 "cells": [
  {
   "cell_type": "markdown",
   "id": "0fa6545e",
   "metadata": {},
   "source": [
    "# Clasificador de SPAM (TF‑IDF + Naive Bayes) con MLflow\n",
    "\n",
    "Este cuaderno entrena un modelo de clasificación de SPAM usando **TF‑IDF** y **Multinomial Naive Bayes**, y registra métricas/artefactos en **MLflow**.\n",
    "\n",
    "**Pasos**:\n",
    "1. Carga y preparación del dataset (`spam_dataset.csv`).\n",
    "2. Vectorización con TF‑IDF.\n",
    "3. Entrenamiento y validación (F1 con CV).\n",
    "4. Evaluación en test (accuracy, precision, recall, f1).\n",
    "5. Log de métricas/artefactos/modelo en MLflow.\n",
    "\n",
    "> Requisitos: `pandas`, `numpy`, `scikit-learn`, `matplotlib`, `mlflow`.\n"
   ]
  },
  {
   "cell_type": "code",
   "execution_count": 2,
   "id": "e1316264",
   "metadata": {},
   "outputs": [],
   "source": [
    "# Instalar librerias\n",
    "!pip install -q mlflow scikit-learn pandas numpy matplotlib\n"
   ]
  },
  {
   "cell_type": "code",
   "execution_count": null,
   "id": "eb46ce4a",
   "metadata": {},
   "outputs": [],
   "source": [
    "import os, mlflow, pathlib\n",
    "\n",
    "local_store = pathlib.Path.cwd() / \"mlruns\"\n",
    "local_store.mkdir(parents=True, exist_ok=True)\n",
    "\n",
    "mlflow.set_tracking_uri(f\"file://{local_store.resolve()}\")\n",
    "print(\"Tracking URI:\", mlflow.get_tracking_uri())"
   ]
  },
  {
   "cell_type": "code",
   "execution_count": 5,
   "id": "e0f423f5",
   "metadata": {},
   "outputs": [],
   "source": [
    "import os\n",
    "import logging\n",
    "import numpy as np\n",
    "import pandas as pd\n",
    "import matplotlib.pyplot as plt\n",
    "\n",
    "from sklearn.model_selection import train_test_split, cross_val_score\n",
    "from sklearn.feature_extraction.text import TfidfVectorizer\n",
    "from sklearn.naive_bayes import MultinomialNB\n",
    "from sklearn.pipeline import Pipeline\n",
    "from sklearn.metrics import (\n",
    "    classification_report, confusion_matrix, precision_score,\n",
    "    accuracy_score, recall_score, f1_score, ConfusionMatrixDisplay\n",
    ")\n",
    "\n",
    "import mlflow\n",
    "import mlflow.sklearn\n",
    "from mlflow.models import infer_signature\n",
    "\n",
    "logging.basicConfig(level=logging.WARN)\n",
    "logger = logging.getLogger(__name__)\n"
   ]
  },
  {
   "cell_type": "markdown",
   "id": "cf307c85",
   "metadata": {},
   "source": [
    "## Carga y preparación del dataset"
   ]
  },
  {
   "cell_type": "code",
   "execution_count": 7,
   "id": "fb6d170f",
   "metadata": {},
   "outputs": [
    {
     "data": {
      "text/html": [
       "<div>\n",
       "<style scoped>\n",
       "    .dataframe tbody tr th:only-of-type {\n",
       "        vertical-align: middle;\n",
       "    }\n",
       "\n",
       "    .dataframe tbody tr th {\n",
       "        vertical-align: top;\n",
       "    }\n",
       "\n",
       "    .dataframe thead th {\n",
       "        text-align: right;\n",
       "    }\n",
       "</style>\n",
       "<table border=\"1\" class=\"dataframe\">\n",
       "  <thead>\n",
       "    <tr style=\"text-align: right;\">\n",
       "      <th></th>\n",
       "      <th>message_content</th>\n",
       "      <th>is_spam</th>\n",
       "    </tr>\n",
       "  </thead>\n",
       "  <tbody>\n",
       "    <tr>\n",
       "      <th>0</th>\n",
       "      <td>Hello Lonnie,\\n\\nJust wanted to touch base reg...</td>\n",
       "      <td>0</td>\n",
       "    </tr>\n",
       "    <tr>\n",
       "      <th>1</th>\n",
       "      <td>Congratulations, you've won a prize! Call us n...</td>\n",
       "      <td>1</td>\n",
       "    </tr>\n",
       "    <tr>\n",
       "      <th>2</th>\n",
       "      <td>You have been pre-approved for a credit card w...</td>\n",
       "      <td>1</td>\n",
       "    </tr>\n",
       "    <tr>\n",
       "      <th>3</th>\n",
       "      <td>Limited time offer, act now! Only a few spots ...</td>\n",
       "      <td>1</td>\n",
       "    </tr>\n",
       "    <tr>\n",
       "      <th>4</th>\n",
       "      <td>Your loan has been approved! Transfer funds to...</td>\n",
       "      <td>1</td>\n",
       "    </tr>\n",
       "  </tbody>\n",
       "</table>\n",
       "</div>"
      ],
      "text/plain": [
       "                                     message_content  is_spam\n",
       "0  Hello Lonnie,\\n\\nJust wanted to touch base reg...        0\n",
       "1  Congratulations, you've won a prize! Call us n...        1\n",
       "2  You have been pre-approved for a credit card w...        1\n",
       "3  Limited time offer, act now! Only a few spots ...        1\n",
       "4  Your loan has been approved! Transfer funds to...        1"
      ]
     },
     "metadata": {},
     "output_type": "display_data"
    },
    {
     "data": {
      "text/plain": [
       "(700, 300)"
      ]
     },
     "execution_count": 7,
     "metadata": {},
     "output_type": "execute_result"
    }
   ],
   "source": [
    "# Lectura de archivo 'spam_dataset.csv' \n",
    "\n",
    "df = pd.read_csv(\"spam_dataset.csv\")\n",
    "display(df.head())\n",
    "\n",
    "X = df['message_content']\n",
    "y = df['is_spam']\n",
    "\n",
    "x_train, x_test, y_train, y_test = train_test_split(\n",
    "    X, y, test_size=0.3, random_state=42, stratify=y\n",
    ")\n",
    "len(x_train), len(x_test)\n"
   ]
  },
  {
   "cell_type": "markdown",
   "id": "61c70336",
   "metadata": {},
   "source": [
    "## Pipeline TF‑IDF + MultinomialNB y validación cruzada (F1)"
   ]
  },
  {
   "cell_type": "code",
   "execution_count": 8,
   "id": "840aaf30",
   "metadata": {},
   "outputs": [
    {
     "name": "stdout",
     "output_type": "stream",
     "text": [
      "CV F1 scores: [1. 1. 1. 1. 1.]\n",
      "CV F1 mean: 1.0\n",
      "CV F1 std: 0.0\n"
     ]
    }
   ],
   "source": [
    "params = {\n",
    "    \"tfidf_stop_words\": \"english\",\n",
    "    \"tfidf_ngram_range\": (1, 1),\n",
    "    \"tfidf_min_df\": 1,\n",
    "    \"tfidf_max_df\": 1.0,\n",
    "    \"nb_alpha\": 1.0,\n",
    "    \"nb_fit_prior\": True,\n",
    "}\n",
    "\n",
    "pipe = Pipeline([\n",
    "    (\"tfidf\", TfidfVectorizer(\n",
    "        stop_words=params[\"tfidf_stop_words\"],\n",
    "        ngram_range=params[\"tfidf_ngram_range\"],\n",
    "        min_df=params[\"tfidf_min_df\"],\n",
    "        max_df=params[\"tfidf_max_df\"]\n",
    "    )),\n",
    "    (\"clf\", MultinomialNB(\n",
    "        alpha=params[\"nb_alpha\"],\n",
    "        fit_prior=params[\"nb_fit_prior\"]\n",
    "    )),\n",
    "])\n",
    "\n",
    "# Validación cruzada en train (F1)\n",
    "x_train_vec = TfidfVectorizer(\n",
    "    stop_words=params[\"tfidf_stop_words\"],\n",
    "    ngram_range=params[\"tfidf_ngram_range\"],\n",
    "    min_df=params[\"tfidf_min_df\"],\n",
    "    max_df=params[\"tfidf_max_df\"]\n",
    ").fit_transform(x_train)\n",
    "\n",
    "base_nb = MultinomialNB(alpha=params[\"nb_alpha\"], fit_prior=params[\"nb_fit_prior\"])\n",
    "cv_scores = cross_val_score(base_nb, X=x_train_vec, y=y_train, cv=5, scoring='f1')\n",
    "\n",
    "print(\"CV F1 scores:\", cv_scores)\n",
    "print(\"CV F1 mean:\", np.mean(cv_scores))\n",
    "print(\"CV F1 std:\", np.std(cv_scores))\n"
   ]
  },
  {
   "cell_type": "markdown",
   "id": "3bb5096a",
   "metadata": {},
   "source": [
    "## Entrenamiento y Validación"
   ]
  },
  {
   "cell_type": "code",
   "execution_count": 9,
   "id": "fd582512",
   "metadata": {},
   "outputs": [
    {
     "name": "stdout",
     "output_type": "stream",
     "text": [
      "              precision    recall  f1-score   support\n",
      "\n",
      "           0     1.0000    1.0000    1.0000       150\n",
      "           1     1.0000    1.0000    1.0000       150\n",
      "\n",
      "    accuracy                         1.0000       300\n",
      "   macro avg     1.0000    1.0000    1.0000       300\n",
      "weighted avg     1.0000    1.0000    1.0000       300\n",
      "\n"
     ]
    },
    {
     "data": {
      "image/png": "[encoded data removed]",
      "text/plain": [
       "<Figure size 500x500 with 2 Axes>"
      ]
     },
     "metadata": {},
     "output_type": "display_data"
    },
    {
     "data": {
      "text/plain": [
       "{'accuracy_test': 1.0,\n",
       " 'precision_test': 1.0,\n",
       " 'recall_test': 1.0,\n",
       " 'f1_test': 1.0,\n",
       " 'cv_f1_mean': 1.0,\n",
       " 'cv_f1_std': 0.0}"
      ]
     },
     "execution_count": 9,
     "metadata": {},
     "output_type": "execute_result"
    }
   ],
   "source": [
    "pipe.fit(x_train, y_train)\n",
    "y_pred = pipe.predict(x_test)\n",
    "\n",
    "print(classification_report(y_test, y_pred, digits=4))\n",
    "\n",
    "cm = confusion_matrix(y_test, y_pred)\n",
    "disp = ConfusionMatrixDisplay(cm)\n",
    "fig, ax = plt.subplots(figsize=(5,5))\n",
    "disp.plot(ax=ax)\n",
    "fig.tight_layout()\n",
    "plt.show()\n",
    "\n",
    "metrics = {\n",
    "    \"accuracy_test\": accuracy_score(y_test, y_pred),\n",
    "    \"precision_test\": precision_score(y_test, y_pred, zero_division=0),\n",
    "    \"recall_test\": recall_score(y_test, y_pred, zero_division=0),\n",
    "    \"f1_test\": f1_score(y_test, y_pred, zero_division=0),\n",
    "    \"cv_f1_mean\": float(np.mean(cv_scores)),\n",
    "    \"cv_f1_std\": float(np.std(cv_scores)),\n",
    "}\n",
    "metrics\n"
   ]
  },
  {
   "cell_type": "markdown",
   "id": "c7c65a57",
   "metadata": {},
   "source": [
    "## Registro en MLflow (métricas, artefactos y modelo)"
   ]
  },
  {
   "cell_type": "code",
   "execution_count": null,
   "id": "b025d418",
   "metadata": {},
   "outputs": [],
   "source": [
    "mlflow.set_experiment(\"spam_nb_experiment\")\n",
    "\n",
    "with mlflow.start_run(run_name=\"nb_tfidf_v1\") as run:\n",
    "    # Parámetros\n",
    "    mlflow.log_params({\n",
    "        \"tfidf_stop_words\": params[\"tfidf_stop_words\"],\n",
    "        \"tfidf_ngram_range\": str(params[\"tfidf_ngram_range\"]),\n",
    "        \"tfidf_min_df\": params[\"tfidf_min_df\"],\n",
    "        \"tfidf_max_df\": params[\"tfidf_max_df\"],\n",
    "        \"nb_alpha\": params[\"nb_alpha\"],\n",
    "        \"nb_fit_prior\": params[\"nb_fit_prior\"],\n",
    "    })\n",
    "\n",
    "    # Métricas\n",
    "    mlflow.log_metrics(metrics)\n",
    "\n",
    "    # Artefactos (reporte + matriz de confusión)\n",
    "    os.makedirs(\"artifacts\", exist_ok=True)\n",
    "\n",
    "    # Reporte\n",
    "    report_txt = classification_report(y_test, y_pred, digits=4)\n",
    "    report_path = os.path.join(\"artifacts\", \"classification_report.txt\")\n",
    "    with open(report_path, \"w\") as f:\n",
    "        f.write(report_txt)\n",
    "    mlflow.log_artifact(report_path, artifact_path=\"reports\")\n",
    "\n",
    "    # Imagen de la matriz de confusión\n",
    "    fig, ax = plt.subplots(figsize=(5,5))\n",
    "    ConfusionMatrixDisplay(cm).plot(ax=ax)\n",
    "    fig.tight_layout()\n",
    "    cm_path = os.path.join(\"artifacts\", \"confusion_matrix.png\")\n",
    "    fig.savefig(cm_path, dpi=150)\n",
    "    plt.close(fig)\n",
    "    mlflow.log_artifact(cm_path, artifact_path=\"plots\")\n",
    "\n",
    "    # Modelo + firma y ejemplo\n",
    "    input_example = [\"Get FREE coupons now!!!\"]\n",
    "    signature = infer_signature(input_example, pipe.predict(input_example))\n",
    "    mlflow.sklearn.log_model(\n",
    "        sk_model=pipe,\n",
    "        artifact_path=\"model\",\n",
    "        signature=signature,\n",
    "        input_example=input_example\n",
    "    )\n",
    "\n",
    "    print(\"Run ID:\", run.info.run_id)\n",
    "    print(\"Artifact URI:\", mlflow.get_artifact_uri())\n"
   ]
  },
  {
   "cell_type": "markdown",
   "id": "fe80d32d",
   "metadata": {},
   "source": [
    "### Ver resultados en la UI de MLflow\n",
    "Ejecutá en una terminal:\n",
    "```bash\n",
    "mlflow ui --host 0.0.0.0 --port 5000\n",
    "```\n",
    "Luego abrí: `http://localhost:5000`\n"
   ]
  }
 ],
 "metadata": {
  "kernelspec": {
   "display_name": "base",
   "language": "python",
   "name": "python3"
  },
  "language_info": {
   "codemirror_mode": {
    "name": "ipython",
    "version": 3
   },
   "file_extension": ".py",
   "mimetype": "text/x-python",
   "name": "python",
   "nbconvert_exporter": "python",
   "pygments_lexer": "ipython3",
   "version": "3.12.7"
  }
 },
 "nbformat": 4,
 "nbformat_minor": 5
}
